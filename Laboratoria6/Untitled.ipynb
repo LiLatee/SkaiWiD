{
 "cells": [
  {
   "cell_type": "code",
   "execution_count": 1,
   "id": "handed-occurrence",
   "metadata": {},
   "outputs": [],
   "source": [
    "import numpy as np\n"
   ]
  },
  {
   "cell_type": "code",
   "execution_count": 12,
   "id": "scientific-circumstances",
   "metadata": {},
   "outputs": [
    {
     "data": {
      "text/plain": [
       "array([[2, 4],\n",
       "       [1, 3]])"
      ]
     },
     "execution_count": 12,
     "metadata": {},
     "output_type": "execute_result"
    }
   ],
   "source": [
    "arr = np.array(\n",
    "    [\n",
    "        [2, 4],\n",
    "        [1, 3],\n",
    "    ]\n",
    ")\n",
    "arr"
   ]
  },
  {
   "cell_type": "code",
   "execution_count": 15,
   "id": "activated-argument",
   "metadata": {},
   "outputs": [
    {
     "data": {
      "text/plain": [
       "array([[2, 4, 0, 0],\n",
       "       [1, 3, 0, 0],\n",
       "       [0, 0, 0, 0],\n",
       "       [0, 0, 0, 0],\n",
       "       [0, 0, 0, 0]])"
      ]
     },
     "execution_count": 15,
     "metadata": {},
     "output_type": "execute_result"
    }
   ],
   "source": [
    "arr = np.array(\n",
    "    [\n",
    "        [2, 4],\n",
    "        [1, 3],\n",
    "    ]\n",
    ")\n",
    "n = 5\n",
    "m = 7\n",
    "\n",
    "def add_padding(arr, n, m):\n",
    "    res = arr.copy()\n",
    "    if n > arr.shape[0]:\n",
    "        diff = n - arr.shape[0]\n",
    "        res = np.pad(res, ((0, diff),(0,0)), 'constant', constant_values=0)\n",
    "    if m > arr.shape[1]:\n",
    "        diff = m - arr.shape[1]\n",
    "        res = np.pad(res, ((0, 0),(0,diff)), 'constant', constant_values=0)\n",
    "        \n",
    "    return res[:n, :m]\n",
    "\n",
    "add_padding(arr, 5, 4)"
   ]
  },
  {
   "cell_type": "code",
   "execution_count": 16,
   "id": "about-failing",
   "metadata": {},
   "outputs": [
    {
     "data": {
      "text/plain": [
       "array([[0.5       , 0.25      ],\n",
       "       [1.        , 0.33333333]])"
      ]
     },
     "execution_count": 16,
     "metadata": {},
     "output_type": "execute_result"
    }
   ],
   "source": [
    "np.where(arr != 0, 1/arr, 0)"
   ]
  },
  {
   "cell_type": "code",
   "execution_count": null,
   "id": "young-south",
   "metadata": {},
   "outputs": [],
   "source": []
  }
 ],
 "metadata": {
  "kernelspec": {
   "display_name": "Python 3",
   "language": "python",
   "name": "python3"
  },
  "language_info": {
   "codemirror_mode": {
    "name": "ipython",
    "version": 3
   },
   "file_extension": ".py",
   "mimetype": "text/x-python",
   "name": "python",
   "nbconvert_exporter": "python",
   "pygments_lexer": "ipython3",
   "version": "3.8.5"
  }
 },
 "nbformat": 4,
 "nbformat_minor": 5
}
